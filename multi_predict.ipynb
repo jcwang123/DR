{
 "cells": [
  {
   "cell_type": "code",
   "execution_count": 1,
   "metadata": {},
   "outputs": [
    {
     "name": "stderr",
     "output_type": "stream",
     "text": [
      "/home/power/anaconda3/lib/python3.6/site-packages/h5py/__init__.py:36: FutureWarning: Conversion of the second argument of issubdtype from `float` to `np.floating` is deprecated. In future, it will be treated as `np.float64 == np.dtype(float).type`.\n",
      "  from ._conv import register_converters as _register_converters\n",
      "Using TensorFlow backend.\n"
     ]
    }
   ],
   "source": [
    "import os\n",
    "import numpy as np\n",
    "from keras.optimizers import Adam\n",
    "from LoadBatch import DataGenerator\n",
    "from keras import backend as K\n",
    "\n",
    "from LoadBatch import getimg\n",
    "from resnext import ResNext, ResNextImageNet\n",
    "os.environ[\"CUDA_VISIBLE_DEVICES\"]=\"0,1\"\n",
    "\n",
    "import tensorflow as tf\n",
    "config = tf.ConfigProto()\n",
    "config.gpu_options.allow_growth = True  # 不全部占满显存, 按需分配\n",
    "session = tf.Session(config=config)\n",
    "\n",
    "batch_size = 1\n",
    "nb_classes = 1\n",
    "nb_epoch = 100\n",
    "\n",
    "img_rows, img_cols = 512, 512\n",
    "img_channels = 3\n",
    "\n",
    "img_dim = (img_channels, img_rows, img_cols) if K.image_dim_ordering() == \"th\" else (img_rows, img_cols, img_channels)\n",
    "depth = [3, 4, 6, 3]\n",
    "cardinality = 32\n",
    "width = 4\n",
    "\n",
    "model = ResNextImageNet(img_dim, depth=depth, cardinality=cardinality, width=width, weights=None, classes=nb_classes, weight_decay=0)\n",
    "\n",
    "path ='/home/data/DR_png/'\n",
    "\n",
    "\n",
    "\n",
    "\n"
   ]
  },
  {
   "cell_type": "code",
   "execution_count": 3,
   "metadata": {},
   "outputs": [
    {
     "name": "stderr",
     "output_type": "stream",
     "text": [
      "/home/power/anaconda3/lib/python3.6/importlib/_bootstrap.py:219: RuntimeWarning: numpy.dtype size changed, may indicate binary incompatibility. Expected 96, got 88\n",
      "  return f(*args, **kwds)\n",
      "/home/power/anaconda3/lib/python3.6/site-packages/h5py/__init__.py:36: FutureWarning: Conversion of the second argument of issubdtype from `float` to `np.floating` is deprecated. In future, it will be treated as `np.float64 == np.dtype(float).type`.\n",
      "  from ._conv import register_converters as _register_converters\n",
      "Using TensorFlow backend.\n",
      "/home/power/anaconda3/lib/python3.6/importlib/_bootstrap.py:219: RuntimeWarning: numpy.ufunc size changed, may indicate binary incompatibility. Expected 216, got 192\n",
      "  return f(*args, **kwds)\n",
      "/home/power/anaconda3/lib/python3.6/importlib/_bootstrap.py:219: RuntimeWarning: numpy.dtype size changed, may indicate binary incompatibility. Expected 96, got 88\n",
      "  return f(*args, **kwds)\n",
      "/home/power/anaconda3/lib/python3.6/importlib/_bootstrap.py:219: RuntimeWarning: numpy.ufunc size changed, may indicate binary incompatibility. Expected 216, got 192\n",
      "  return f(*args, **kwds)\n"
     ]
    }
   ],
   "source": [
    "import keras "
   ]
  },
  {
   "cell_type": "code",
   "execution_count": 12,
   "metadata": {},
   "outputs": [],
   "source": [
    "from keras.utils import multi_gpu_model\n",
    "# multi_model = multi_gpu_model(model, gpus=2)\n",
    "multi_model.load_weights('logs/018/model_37-0.050.hdf5')"
   ]
  },
  {
   "cell_type": "code",
   "execution_count": 17,
   "metadata": {},
   "outputs": [],
   "source": [
    "from LoadBatch import getimg\n",
    "import cv2\n",
    "import pandas as pd\n",
    "txt = pd.read_csv('test/csv/xx.csv')\n",
    "img = []\n",
    "for i in range(len(txt)):\n",
    "    filename = txt['path'][i]\n",
    "    img.append(cv2.resize(getimg(filename, norm=True), (512,512)))\n",
    "img = np.array(img)"
   ]
  },
  {
   "cell_type": "code",
   "execution_count": 23,
   "metadata": {
    "scrolled": true
   },
   "outputs": [
    {
     "name": "stdout",
     "output_type": "stream",
     "text": [
      "Pneumothorax\n",
      "0.576616\n",
      "0.58218193\n",
      "0.64370465\n",
      "0.57710344\n",
      "0.40870357\n",
      "0.23487264\n",
      "0.60315037\n",
      "0.45797\n",
      "0.80503166\n",
      "0.6693746\n",
      "0.2768521\n",
      "0.576616\n",
      "0.58218193\n",
      "0.64370465\n",
      "0.33482072\n",
      "0.06898443\n",
      "0.66247994\n",
      "0.021615287\n",
      "0.17507829\n",
      "0.34247237\n",
      "0.5652538\n",
      "0.4289414\n",
      "0.81465435\n",
      "0.40656513\n",
      "0.3672012\n",
      "0.66785747\n",
      "0.23115587\n",
      "0.58218193\n",
      "------------------------------\n",
      "Nodule\n",
      "0.6821667\n",
      "0.8481053\n",
      "0.5928906\n",
      "0.7337348\n",
      "0.10756883\n",
      "0.47063366\n",
      "0.26920298\n",
      "0.18150163\n",
      "0.36987975\n",
      "0.57394576\n",
      "0.55552346\n",
      "0.6821667\n",
      "0.8481053\n",
      "0.5928906\n",
      "0.42145586\n",
      "0.41705528\n",
      "0.59521276\n",
      "0.32762378\n",
      "0.47790232\n",
      "0.740153\n",
      "0.8185322\n",
      "0.3248579\n",
      "0.5311758\n",
      "0.15983018\n",
      "0.69375414\n",
      "0.8125149\n",
      "0.54844993\n",
      "0.8481053\n",
      "------------------------------\n",
      "Mass\n",
      "0.7166287\n",
      "0.8010921\n",
      "0.74144816\n",
      "0.67883426\n",
      "0.5552027\n",
      "0.59462315\n",
      "0.6598292\n",
      "0.6816726\n",
      "0.65689033\n",
      "0.7729175\n",
      "0.53887486\n",
      "0.7166287\n",
      "0.8010921\n",
      "0.74144816\n",
      "0.33228126\n",
      "0.67151433\n",
      "0.71852946\n",
      "0.32218134\n",
      "0.52951306\n",
      "0.6253868\n",
      "0.7000247\n",
      "0.2656118\n",
      "0.7374224\n",
      "0.7536911\n",
      "0.74849975\n",
      "0.7512907\n",
      "0.62680614\n",
      "0.8010921\n",
      "------------------------------\n",
      "Lung Lesion\n",
      "0.78576106\n",
      "0.84036726\n",
      "0.715006\n",
      "0.80386114\n",
      "0.37176493\n",
      "0.44440803\n",
      "0.2893226\n",
      "0.3413343\n",
      "0.6144429\n",
      "0.5037039\n",
      "0.59520286\n",
      "0.78576106\n",
      "0.84036726\n",
      "0.715006\n",
      "0.4297525\n",
      "0.33568078\n",
      "0.6585673\n",
      "0.5979622\n",
      "0.6920736\n",
      "0.5526332\n",
      "0.6678305\n",
      "0.3702374\n",
      "0.64848834\n",
      "0.64969236\n",
      "0.68540394\n",
      "0.7906692\n",
      "0.5060369\n",
      "0.84036726\n",
      "------------------------------\n",
      "Emphysema\n",
      "0.94550186\n",
      "0.9807967\n",
      "0.9336569\n",
      "0.9199414\n",
      "0.5706977\n",
      "0.7000904\n",
      "0.8700878\n",
      "0.4963579\n",
      "0.98707646\n",
      "0.6033455\n",
      "0.9670534\n",
      "0.94550186\n",
      "0.9807967\n",
      "0.9336569\n",
      "0.43700382\n",
      "0.4471014\n",
      "0.21844259\n",
      "0.39599165\n",
      "0.8725828\n",
      "0.5920684\n",
      "0.590712\n",
      "0.8802302\n",
      "0.5076228\n",
      "0.2520858\n",
      "0.016436586\n",
      "0.8444026\n",
      "0.8965141\n",
      "0.9807967\n",
      "------------------------------\n",
      "Fracture\n",
      "0.53981835\n",
      "0.38514948\n",
      "0.5855593\n",
      "0.48035672\n",
      "0.29600888\n",
      "0.57384396\n",
      "0.25757128\n",
      "0.4447356\n",
      "0.7178678\n",
      "0.4020199\n",
      "0.41569737\n",
      "0.53981835\n",
      "0.38514948\n",
      "0.5855593\n",
      "0.42796177\n",
      "0.32063338\n",
      "0.73206234\n",
      "0.53913414\n",
      "0.4851787\n",
      "0.5959684\n",
      "0.6392937\n",
      "0.54067516\n",
      "0.22761656\n",
      "0.4323292\n",
      "0.75323784\n",
      "0.5055541\n",
      "0.28657115\n",
      "0.38514948\n",
      "------------------------------\n",
      "Fibrosis\n",
      "0.90311325\n",
      "0.89059716\n",
      "0.9021964\n",
      "0.9133087\n",
      "0.9064908\n",
      "0.7429485\n",
      "0.8551105\n",
      "0.87053967\n",
      "0.5510795\n",
      "0.9295607\n",
      "0.8127324\n",
      "0.90311325\n",
      "0.89059716\n",
      "0.9021964\n",
      "0.56406635\n",
      "0.75505584\n",
      "0.43265992\n",
      "0.41908213\n",
      "0.7154389\n",
      "0.5533756\n",
      "0.6635044\n",
      "0.3206903\n",
      "0.6783748\n",
      "0.7762726\n",
      "0.33109167\n",
      "0.6855598\n",
      "0.80462325\n",
      "0.89059716\n",
      "------------------------------\n",
      "Edema\n",
      "0.08345162\n",
      "0.18419385\n",
      "0.0822792\n",
      "0.03943441\n",
      "0.011843523\n",
      "0.029556012\n",
      "0.005038991\n",
      "0.026924927\n",
      "0.0130435135\n",
      "0.08001652\n",
      "0.01896819\n",
      "0.08345162\n",
      "0.18419385\n",
      "0.0822792\n",
      "0.027393037\n",
      "0.03361625\n",
      "0.0109270625\n",
      "0.025956376\n",
      "0.044285096\n",
      "0.0106917145\n",
      "0.1536096\n",
      "0.09761051\n",
      "0.15018864\n",
      "0.0072545796\n",
      "0.024005942\n",
      "0.091095544\n",
      "0.16512376\n",
      "0.18419385\n",
      "------------------------------\n",
      "Pleural Thicken\n",
      "0.7670977\n",
      "0.91167986\n",
      "0.7852348\n",
      "0.8854535\n",
      "0.8962614\n",
      "0.66207016\n",
      "0.6065377\n",
      "0.82494\n",
      "0.44829044\n",
      "0.8883035\n",
      "0.7465821\n",
      "0.7670977\n",
      "0.91167986\n",
      "0.7852348\n",
      "0.670942\n",
      "0.6951741\n",
      "0.5845395\n",
      "0.28542098\n",
      "0.66702205\n",
      "0.84496003\n",
      "0.84600055\n",
      "0.8107999\n",
      "0.83267915\n",
      "0.80700254\n",
      "0.6534291\n",
      "0.9562447\n",
      "0.8361199\n",
      "0.91167986\n",
      "------------------------------\n",
      "Pleural Effusion\n",
      "0.2898286\n",
      "0.28855452\n",
      "0.5566565\n",
      "0.12144274\n",
      "0.039948493\n",
      "0.119768515\n",
      "0.05309943\n",
      "0.025461018\n",
      "0.069030054\n",
      "0.089714974\n",
      "0.062778436\n",
      "0.2898286\n",
      "0.28855452\n",
      "0.5566565\n",
      "0.22837509\n",
      "0.10593009\n",
      "0.15034842\n",
      "0.04479915\n",
      "0.2755993\n",
      "0.039766017\n",
      "0.108689785\n",
      "0.13490628\n",
      "0.15538898\n",
      "0.059962273\n",
      "0.10222044\n",
      "0.23348516\n",
      "0.10836709\n",
      "0.28855452\n",
      "------------------------------\n",
      "Pleural Other\n",
      "0.6296925\n",
      "0.57366556\n",
      "0.36133322\n",
      "0.57435817\n",
      "0.28871778\n",
      "0.4807963\n",
      "0.3496108\n",
      "0.44938305\n",
      "0.3453004\n",
      "0.27579758\n",
      "0.49267977\n",
      "0.6296925\n",
      "0.57366556\n",
      "0.36133322\n",
      "0.28960901\n",
      "0.24535687\n",
      "0.64097846\n",
      "0.6203917\n",
      "0.6450001\n",
      "0.56325966\n",
      "0.4797653\n",
      "0.40599835\n",
      "0.4054462\n",
      "0.64072394\n",
      "0.74011314\n",
      "0.6882517\n",
      "0.25049198\n",
      "0.57366556\n",
      "------------------------------\n",
      "9.35810899734497\n"
     ]
    }
   ],
   "source": [
    "import os\n",
    "import time\n",
    "start = time.time()\n",
    "for w in os.listdir('weights/'):\n",
    "    print(w.split('.')[0])\n",
    "    multi_model.load_weights('weights/'+w)\n",
    "    re = multi_model.predict(img)\n",
    "    for r in re:\n",
    "        print(r[0])\n",
    "    print('-'*30)\n",
    "print(time.time()-start)"
   ]
  },
  {
   "cell_type": "code",
   "execution_count": 5,
   "metadata": {
    "scrolled": false
   },
   "outputs": [
    {
     "name": "stdout",
     "output_type": "stream",
     "text": [
      "cxr8 11347\n"
     ]
    },
    {
     "data": {
      "application/vnd.jupyter.widget-view+json": {
       "model_id": "548b492cfd86408ea00372ef2790c822",
       "version_major": 2,
       "version_minor": 0
      },
      "text/plain": [
       "HBox(children=(IntProgress(value=0, max=11347), HTML(value='')))"
      ]
     },
     "metadata": {},
     "output_type": "display_data"
    },
    {
     "name": "stdout",
     "output_type": "stream",
     "text": [
      "\n",
      "11347/11347 [==============================] - 152s 13ms/step\n",
      "(11347, 1)\n",
      "cxr8 11347 173\n",
      "4515 57 116 6659 0.6684023915965116\n",
      "0.6705202312138728 0.5959369965992483 0.5970741165065656 \n",
      "\n",
      "sz 328\n"
     ]
    },
    {
     "data": {
      "application/vnd.jupyter.widget-view+json": {
       "model_id": "96a5c864301143c1b9ea067c0b0c77cc",
       "version_major": 2,
       "version_minor": 0
      },
      "text/plain": [
       "HBox(children=(IntProgress(value=0, max=328), HTML(value='')))"
      ]
     },
     "metadata": {},
     "output_type": "display_data"
    },
    {
     "name": "stdout",
     "output_type": "stream",
     "text": [
      "\n",
      "328/328 [==============================] - 4s 11ms/step\n",
      "(328, 1)\n",
      "sz 328 2\n",
      "133 0 2 193 0.6457055214723927\n",
      "1.0 0.5920245398773006 0.5945121951219512 \n",
      "\n",
      "bj 172\n"
     ]
    },
    {
     "data": {
      "application/vnd.jupyter.widget-view+json": {
       "model_id": "873d4642aa6e4f1e8b8bc947bbbfed55",
       "version_major": 2,
       "version_minor": 0
      },
      "text/plain": [
       "HBox(children=(IntProgress(value=0, max=172), HTML(value='')))"
      ]
     },
     "metadata": {},
     "output_type": "display_data"
    },
    {
     "name": "stdout",
     "output_type": "stream",
     "text": [
      "\n",
      "172/172 [==============================] - 2s 11ms/step\n",
      "(172, 1)\n",
      "bj 172 13\n",
      "53 6 7 106 0.5679729075955491\n",
      "0.5384615384615384 0.6666666666666666 0.6569767441860465 \n",
      "\n",
      "padchest 9968\n"
     ]
    },
    {
     "data": {
      "application/vnd.jupyter.widget-view+json": {
       "model_id": "79a99750ae4a44f69279bfb6541bf042",
       "version_major": 2,
       "version_minor": 0
      },
      "text/plain": [
       "HBox(children=(IntProgress(value=0, max=9968), HTML(value='')))"
      ]
     },
     "metadata": {},
     "output_type": "display_data"
    },
    {
     "name": "stdout",
     "output_type": "stream",
     "text": [
      "\n",
      "9774/9774 [==============================] - 110s 11ms/step\n",
      "(9774, 1)\n",
      "padchest 9774 125\n",
      "3204 26 99 6445 0.7880551352471759\n",
      "0.792 0.6679448647528241 0.6695314098629016 \n",
      "\n"
     ]
    },
    {
     "data": {
      "image/png": "[encoded data removed]",
      "text/plain": [
       "<Figure size 432x288 with 1 Axes>"
      ]
     },
     "metadata": {},
     "output_type": "display_data"
    }
   ],
   "source": [
    "from tqdm import tqdm_notebook\n",
    "from sklearn.metrics import roc_auc_score,roc_curve,auc\n",
    "import matplotlib.pyplot as plt\n",
    "import pandas\n",
    "data={}\n",
    "name = 'Fibrosis'\n",
    "fig, ax = plt.subplots()\n",
    "total_label = np.array([])\n",
    "total_result = np.array([])\n",
    "for file in os.listdir('label/'+name+'/test/'):\n",
    "    tmp = file.split('.')[0]\n",
    "    if tmp == 'merge':\n",
    "        continue\n",
    "    with open('label/'+name+'/test/'+file, 'r') as f:\n",
    "        test_lines = f.readlines()\n",
    "    img = []\n",
    "    label = []\n",
    "    print(tmp, len(test_lines))\n",
    "    for l in tqdm_notebook(test_lines):        \n",
    "        img_path = path + l.split(' ')[0]\n",
    "        try:\n",
    "            tmp_img = getimg(img_path, norm=True)\n",
    "            tmp_label = np.array(list(map(int, l.split(' ')[1:])))\n",
    "            if tmp_label == -2:\n",
    "                tmp_label = np.array([0])\n",
    "            elif tmp_label == -1 :\n",
    "                tmp_label = np.array([1])\n",
    "            img.append(tmp_img)\n",
    "            label.append(tmp_label)\n",
    "        except Exception as e:\n",
    "            continue\n",
    "    img = np.array(img)\n",
    "    label = np.array(label)\n",
    "    result = multi_model.predict(img, verbose=1)\n",
    "\n",
    "    if not total_label.shape[0]==0:\n",
    "        total_result=np.concatenate([total_result,result[:,0]])\n",
    "        total_label =np.concatenate([total_label,label])\n",
    "    else:\n",
    "        total_result=result[:,0]\n",
    "        total_label=label    \n",
    "    print(label.shape)\n",
    "    fpr, tpr, thresholds = roc_curve(label[:,0], result[:,0])\n",
    "    roc_auc = auc(fpr, tpr)\n",
    "    p = np.arange(len(tpr))\n",
    "    roc = pandas.DataFrame({'tf' : pandas.Series(tpr+(1-fpr), index=p),'thresholds' : pandas.Series(thresholds, index=p)})\n",
    "    roc_t = roc.iloc[(roc.tf-0).abs().argsort()[-1:]]\n",
    "    \n",
    "    pred_binary = (result[:,0] >=roc_t['thresholds'].values)*1\n",
    "    gt_binary = label[:,0]\n",
    "    fp = np.sum((pred_binary > gt_binary)*1)\n",
    "    fn = np.sum((gt_binary > pred_binary)*1) \n",
    "    tp = np.sum((pred_binary == gt_binary)* 1 * ((gt_binary == 1 )* 1))\n",
    "    tn = np.sum((pred_binary == gt_binary)* 1 * ((gt_binary == 0 )* 1))\n",
    "    print(tmp,len(result), tp+fn)\n",
    "    print(fp, fn, tp ,tn, roc_auc)\n",
    "    print(tp/(tp+fn),tn/(tn+fp),(tp+tn)/(len(label)),'\\n')\n",
    "    ax.plot(fpr, tpr, lw=1, label=tmp+' ROC (area = %0.3f)' % (roc_auc))\n",
    "fpr, tpr, thresholds = roc_curve(total_label, total_result)\n",
    "roc_auc = auc(fpr, tpr)\n",
    "ax.plot(fpr, tpr, lw=1, label='Total ROC (area = %0.3f)' % (roc_auc))\n",
    "plt.legend(fontsize='x-small')\n",
    "plt.savefig(name+'_ROC.jpg', bbox_inches='tight', quality = 100,dpi=1000)"
   ]
  },
  {
   "cell_type": "code",
   "execution_count": 12,
   "metadata": {},
   "outputs": [],
   "source": [
    "multi_model.load_weights('logs/013/model_49-0.13.hdf5')"
   ]
  },
  {
   "cell_type": "code",
   "execution_count": 19,
   "metadata": {},
   "outputs": [
    {
     "name": "stdout",
     "output_type": "stream",
     "text": [
      "bj 172\n",
      "172/172 [==============================] - 16s 91ms/step\n",
      "CXR8 11347\n",
      "11347/11347 [==============================] - 132s 12ms/step\n",
      "sz 292\n",
      "292/292 [==============================] - 3s 12ms/step\n",
      "PadChest 986\n",
      "986/986 [==============================] - 11s 12ms/step\n"
     ]
    }
   ],
   "source": [
    "from sklearn.metrics import roc_auc_score,roc_curve,auc\n",
    "import matplotlib.pyplot as plt\n",
    "import pandas\n",
    "Name = ['CheXpert', 'MIMIC', 'bj', 'CXR8', 'sz', 'PadChest']\n",
    "total_label = np.array([])\n",
    "total_result = np.array([])\n",
    "re = {}\n",
    "for data_name in Name:\n",
    "    if not data.get(data_name, 0):\n",
    "        continue\n",
    "    print(data_name,len(data[data_name]['img']))\n",
    "    img = data[data_name]['img']\n",
    "    label = data[data_name]['label']\n",
    "    result = multi_model.predict(img, verbose=1)\n",
    "    if not total_label.shape[0]==0:\n",
    "        if not data_name == 'PadChest':\n",
    "            total_result=np.concatenate([total_result,result[:,0]])\n",
    "            total_label =np.concatenate([total_label,label])\n",
    "    else:\n",
    "        total_result=result[:,0]Screenshot from 2019-04-02 16-20-24\n",
    "        total_label=label\n",
    "    re[data_name]=result"
   ]
  },
  {
   "cell_type": "code",
   "execution_count": 22,
   "metadata": {},
   "outputs": [
    {
     "name": "stdout",
     "output_type": "stream",
     "text": [
      "bj 172 1\n",
      "107 0 1 64 0.3742690058479532\n",
      "1.0 0.3742690058479532 0.37790697674418605 \n",
      "\n",
      "CXR8 11347 1916\n",
      "3308 725 1191 6123 0.6860730193080209\n",
      "0.6216075156576201 0.6492418619446506 0.6445756587644311 \n",
      "\n",
      "sz 292 0\n",
      "292 0 0 0 nan\n",
      "nan 0.0 0.0 \n",
      "\n",
      "PadChest 986 44\n",
      "177 18 26 765 0.6857025670719938\n",
      "0.5909090909090909 0.8121019108280255 0.8022312373225152 \n",
      "\n"
     ]
    },
    {
     "name": "stderr",
     "output_type": "stream",
     "text": [
      "/home/power/anaconda3/lib/python3.6/site-packages/sklearn/metrics/ranking.py:656: UndefinedMetricWarning: No positive samples in y_true, true positive value should be meaningless\n",
      "  UndefinedMetricWarning)\n",
      "/home/power/anaconda3/lib/python3.6/site-packages/ipykernel_launcher.py:21: RuntimeWarning: invalid value encountered in long_scalars\n"
     ]
    },
    {
     "data": {
      "image/png": "[encoded data removed]",
      "text/plain": [
       "<Figure size 432x288 with 1 Axes>"
      ]
     },
     "metadata": {},
     "output_type": "display_data"
    }
   ],
   "source": [
    "fig, ax = plt.subplots()\n",
    "for data_name in Name:\n",
    "    if not data.get(data_name, 0):\n",
    "        continue\n",
    "#     print(data_name,len(data[data_name]['img']))\n",
    "    label = data[data_name]['label']\n",
    "    fpr, tpr, thresholds = roc_curve(label, re[data_name][:,0])\n",
    "    roc_auc = auc(fpr, tpr)\n",
    "    p = np.arange(len(tpr))\n",
    "    roc = pandas.DataFrame({'tf' : pandas.Series(tpr+(1-fpr), index=p),'thresholds' : pandas.Series(thresholds, index=p)})\n",
    "    roc_t = roc.iloc[(roc.tf-0).abs().argsort()[-1:]]\n",
    "    \n",
    "    pred_binary = (re[data_name][:,0] >=roc_t['thresholds'].values)*1\n",
    "    gt_binary = label[:,0]\n",
    "    fp = np.sum((pred_binary > gt_binary)*1)\n",
    "    fn = np.sum((gt_binary > pred_binary)*1) \n",
    "    tp = np.sum((pred_binary == gt_binary)* 1 * ((gt_binary == 1 )* 1))\n",
    "    tn = np.sum((pred_binary == gt_binary)* 1 * ((gt_binary == 0 )* 1))\n",
    "    print(data_name,len(data[data_name]['img']), tp+fn)\n",
    "    print(fp, fn, tp ,tn, roc_auc)\n",
    "    print(tp/(tp+fn),tn/(tn+fp),(tp+tn)/(len(label)),'\\n')\n",
    "    ax.plot(fpr, tpr, lw=1, label=data_name+' ROC (area = %0.3f)' % (roc_auc))\n",
    "########################################################\n",
    "fpr, tpr, thresholds = roc_curve(total_label, total_result)\n",
    "roc_auc = auc(fpr, tpr)\n",
    "ax.plot(fpr, tpr, lw=1, label='Total ROC (area = %0.3f)' % (roc_auc))\n",
    "plt.legend(fontsize='x-small')\n",
    "plt.savefig('Infiltration_ROC.jpg', bbox_inches='tight', quality = 100,dpi=1000)"
   ]
  },
  {
   "cell_type": "code",
   "execution_count": 20,
   "metadata": {},
   "outputs": [
    {
     "data": {
      "image/png": "[encoded data removed]",
      "text/plain": [
       "<Figure size 432x288 with 1 Axes>"
      ]
     },
     "metadata": {},
     "output_type": "display_data"
    }
   ],
   "source": [
    "from sklearn.metrics import average_precision_score,precision_recall_curve\n",
    "from sklearn.utils.fixes import signature\n",
    "average_precision = average_precision_score(total_label, total_result)\n",
    "precision, recall, _ = precision_recall_curve(total_label, total_result)\n",
    "\n",
    "# In matplotlib < 1.5, plt.fill_between does not have a 'step' argument\n",
    "step_kwargs = ({'step': 'post'}\n",
    "               if 'step' in signature(plt.fill_between).parameters\n",
    "               else {})\n",
    "plt.step(recall, precision, color='b', alpha=0.2,\n",
    "         where='post')\n",
    "plt.fill_between(recall, precision, alpha=0.2, color='b', **step_kwargs)\n",
    "\n",
    "plt.xlabel('Recall')\n",
    "plt.ylabel('Precision')\n",
    "plt.ylim([0.0, 1.05])\n",
    "plt.xlim([0.0, 1.0])\n",
    "plt.title(f'Infiltration Precision-Recall curve: AP={average_precision:0.3f}')\n",
    "plt.savefig('Infiltration_PR.jpg', bbox_inches='tight', quality = 100,dpi=1000)"
   ]
  },
  {
   "cell_type": "code",
   "execution_count": 60,
   "metadata": {},
   "outputs": [
    {
     "data": {
      "text/plain": [
       "134"
      ]
     },
     "execution_count": 60,
     "metadata": {},
     "output_type": "execute_result"
    }
   ],
   "source": [
    "for file in os.listdir('single_total/test/'):\n",
    "    tmp = file.split('_')[0]\n",
    "    if (tmp == 'test'):\n",
    "        continue\n",
    "    with open('single_total/test/'+file, 'r') as f:\n",
    "        test_lines = f.readlines()\n",
    "    img = []\n",
    "    label = []\n",
    "    print(file.split('_')[0], len(test_lines))\n",
    "    for l in tqdm_notebook(test_lines):        \n",
    "        img_path = path + l.split(' ')[0]\n",
    "        try:\n",
    "            tmp_img = getimg(img_path, 512,norm=True)\n",
    "            tmp_label = np.array(list(map(int, l.split(' ')[1:])))\n",
    "            if tmp_label == -2:\n",
    "                tmp_label =np.array([0])\n",
    "            img.append(tmp_img)\n",
    "            label.append(tmp_label)\n",
    "        except Exception as e:\n",
    "            continue\n",
    "    img = np.array(img)\n",
    "    label = np.array(label)\n",
    "    data[file.split('_')[0]]={\"img\":img,\"label\":label}"
   ]
  },
  {
   "cell_type": "code",
   "execution_count": 1,
   "metadata": {},
   "outputs": [],
   "source": [
    "import tensorflow as tf\n",
    "import keras.backend as K"
   ]
  },
  {
   "cell_type": "code",
   "execution_count": 2,
   "metadata": {},
   "outputs": [],
   "source": [
    "x = K.ones((5,5,5))"
   ]
  },
  {
   "cell_type": "code",
   "execution_count": 9,
   "metadata": {},
   "outputs": [
    {
     "data": {
      "text/plain": [
       "1"
      ]
     },
     "execution_count": 9,
     "metadata": {},
     "output_type": "execute_result"
    }
   ],
   "source": [
    "round(0.7)"
   ]
  }
 ],
 "metadata": {
  "kernelspec": {
   "display_name": "Python 3",
   "language": "python",
   "name": "python3"
  },
  "language_info": {
   "codemirror_mode": {
    "name": "ipython",
    "version": 3
   },
   "file_extension": ".py",
   "mimetype": "text/x-python",
   "name": "python",
   "nbconvert_exporter": "python",
   "pygments_lexer": "ipython3",
   "version": "3.6.5"
  }
 },
 "nbformat": 4,
 "nbformat_minor": 2
}
