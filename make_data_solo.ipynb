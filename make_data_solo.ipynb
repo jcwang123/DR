{
 "cells": [
  {
   "cell_type": "code",
   "execution_count": 1,
   "metadata": {},
   "outputs": [],
   "source": [
    "import csv\n",
    "import numpy as np\n",
    "from collections import namedtuple\n",
    "import os"
   ]
  },
  {
   "cell_type": "code",
   "execution_count": 2,
   "metadata": {},
   "outputs": [],
   "source": [
    "def get_v(v):\n",
    "    if v=='':\n",
    "        return 0\n",
    "    elif v=='-1.0' or v=='-1':\n",
    "        return 1\n",
    "    else:\n",
    "        return int(float(v))    "
   ]
  },
  {
   "cell_type": "code",
   "execution_count": 4,
   "metadata": {},
   "outputs": [
    {
     "name": "stdout",
     "output_type": "stream",
     "text": [
      "******************************\n",
      "chexpert\n",
      "label in this dataset\n",
      "train \t 168833 \t 6996\n",
      "label in this dataset\n",
      "valid \t 11086 \t 481\n",
      "label in this dataset\n",
      "test \t 11293 \t 456\n",
      "******************************\n",
      "mimic\n",
      "label in this dataset\n",
      "train \t 226523 \t 5035\n",
      "label in this dataset\n",
      "valid \t 10871 \t 286\n",
      "label in this dataset\n",
      "test \t 12651 \t 354\n",
      "******************************\n",
      "cxr8\n",
      "no this label...\n",
      "******************************\n",
      "sz\n",
      "label in this dataset\n",
      "train \t 2733 \t 14\n",
      "label in this dataset\n",
      "valid \t 253 \t 1\n",
      "label in this dataset\n",
      "test \t 328 \t 0\n",
      "******************************\n",
      "bj\n",
      "no this label...\n",
      "******************************\n",
      "padchest\n",
      "label in this dataset\n",
      "train \t 90574 \t 1903\n",
      "label in this dataset\n",
      "valid \t 10012 \t 533\n",
      "label in this dataset\n",
      "test \t 9968 \t 518\n"
     ]
    }
   ],
   "source": [
    "name = 'Fracture'\n",
    "rule = {}\n",
    "rule['Lung Lesion']=['Mass','Nodule']\n",
    "if not os.path.exists('label/'+name):\n",
    "    os.makedirs('label/'+name+'/train')\n",
    "    os.makedirs('label/'+name+'/valid')\n",
    "    os.makedirs('label/'+name+'/test')\n",
    "for data_set in ['chexpert','mimic','cxr8','sz','bj','padchest']:\n",
    "    print('*'*30)\n",
    "    print(data_set)\n",
    "    data = {}\n",
    "    for tag in ['train','valid','test']:\n",
    "        data[tag] = []\n",
    "        val = 0\n",
    "        f = open('new_train_valid_test/'+tag+'/'+data_set+'.csv')\n",
    "        reader = csv.reader(f)   \n",
    "        heading = next(reader)\n",
    "        if name in heading:\n",
    "            indexs = [heading.index(name)]\n",
    "            print('label in this dataset')\n",
    "        elif name == 'Lung Lesion':\n",
    "            print('children in this dataset')\n",
    "            names = rule[name]\n",
    "            indexs = []\n",
    "            for n in names:\n",
    "                indexs.append(heading.index(n))\n",
    "        elif name == 'Pleural Effusion':\n",
    "            indexs = [heading.index('Effusion')]\n",
    "            print('children in this dataset')\n",
    "        else:\n",
    "            print('no this label...')\n",
    "            break\n",
    "        for row in reader:\n",
    "            if row[3]=='Lateral' or row[1] == 'lateral':\n",
    "                continue\n",
    "            if data_set == 'padchest':\n",
    "                label = 'PADCHEST_SJ/image_zips/'+row[0][:-4]+'.png'\n",
    "            else:\n",
    "                label = row[0][15:-4]+'.png'    \n",
    "            vv = 0\n",
    "            for ind in indexs:\n",
    "                x = get_v(row[ind])\n",
    "                assert(x in [0,1])\n",
    "                vv+=x\n",
    "            vv = (vv>0)*1\n",
    "            val+=vv\n",
    "            data[tag].append(label+f' {vv}')\n",
    "        print(tag, '\\t', len(data[tag]), '\\t', val)\n",
    "        with open('label/'+name+'/'+tag+'/'+data_set+'.txt','w') as f:\n",
    "            for l in data[tag]:\n",
    "                f.write(l+'\\n')  "
   ]
  }
 ],
 "metadata": {
  "kernelspec": {
   "display_name": "Python 3",
   "language": "python",
   "name": "python3"
  },
  "language_info": {
   "codemirror_mode": {
    "name": "ipython",
    "version": 3
   },
   "file_extension": ".py",
   "mimetype": "text/x-python",
   "name": "python",
   "nbconvert_exporter": "python",
   "pygments_lexer": "ipython3",
   "version": "3.6.5"
  }
 },
 "nbformat": 4,
 "nbformat_minor": 2
}
